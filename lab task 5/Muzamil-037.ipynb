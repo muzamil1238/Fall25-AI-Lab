{
 "cells": [
  {
   "cell_type": "markdown",
   "id": "30298f7d",
   "metadata": {},
   "source": [
    "   # DFS with Stack implementation:"
   ]
  },
  {
   "cell_type": "code",
   "execution_count": 7,
   "id": "6e3bbcef",
   "metadata": {},
   "outputs": [
    {
     "name": "stdout",
     "output_type": "stream",
     "text": [
      "0\n",
      "1\n",
      "4\n",
      "2\n",
      "3\n",
      "{'2', '0', '3', '4', '1'}\n"
     ]
    }
   ],
   "source": [
    "def DFS_using_stack(graph,start):\n",
    "    visited = set()\n",
    "    stack = [start]\n",
    "\n",
    "    while stack:\n",
    "        current = stack.pop()\n",
    "        if current not in visited:\n",
    "            print(current)\n",
    "            visited.add(current)\n",
    "            for neighbor in graph[current]:\n",
    "                if neighbor not in visited:\n",
    "                    stack.append(neighbor)\n",
    "    print(visited)\n",
    "graph ={\n",
    "    '0' : set(['1','2']),\n",
    "    '1' : set(['0','3','4']),\n",
    "    '2' : set(['0']),\n",
    "    '3' : set(['1']),\n",
    "    '4' : set(['2','3'])\n",
    "\n",
    "}   \n",
    "\n",
    "DFS_using_stack(graph,'0')"
   ]
  }
 ],
 "metadata": {
  "kernelspec": {
   "display_name": "Python 3",
   "language": "python",
   "name": "python3"
  },
  "language_info": {
   "codemirror_mode": {
    "name": "ipython",
    "version": 3
   },
   "file_extension": ".py",
   "mimetype": "text/x-python",
   "name": "python",
   "nbconvert_exporter": "python",
   "pygments_lexer": "ipython3",
   "version": "3.11.9"
  }
 },
 "nbformat": 4,
 "nbformat_minor": 5
}
