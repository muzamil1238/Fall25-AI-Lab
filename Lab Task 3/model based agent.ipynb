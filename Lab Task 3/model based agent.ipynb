{
 "cells": [
  {
   "cell_type": "code",
   "execution_count": 4,
   "id": "b28e7ba3",
   "metadata": {},
   "outputs": [
    {
     "name": "stdout",
     "output_type": "stream",
     "text": [
      "Room-wise Temperature Control:\n",
      "\n",
      "Living Room: Current Temperature = 18°C → Turn ON heater\n",
      "Bedroom: Current Temperature = 22°C → Temperature is perfect, No action needed\n",
      "Kitchen: Current Temperature = 20°C → Turn ON heater\n",
      "Bathroom: Current Temperature = 24°C → Turn OFF heater\n",
      "\n",
      "--- Action History ---\n",
      "Living Room: 18°C → Turn ON heater\n",
      "Bedroom: 22°C → Temperature is perfect, No action needed\n",
      "Kitchen: 20°C → Turn ON heater\n",
      "Bathroom: 24°C → Turn OFF heater\n"
     ]
    }
   ],
   "source": [
    "class SimpleReflexAgent:\n",
    "    def __init__(self, desired_temperature):\n",
    "        self.desired_temperature = desired_temperature\n",
    "        self.history = []  # to store actions history\n",
    "\n",
    "    def perceive(self, current_temperature):\n",
    "        return current_temperature\n",
    "\n",
    "    def act(self, room, current_temperature):\n",
    "        if current_temperature < self.desired_temperature:\n",
    "            action = \"Turn ON heater\"\n",
    "        elif current_temperature > self.desired_temperature:\n",
    "            action = \"Turn OFF heater\"\n",
    "        else:\n",
    "            action = \"Temperature is perfect, No action needed\"\n",
    "\n",
    "        self.history.append((room, current_temperature, action))\n",
    "        return action\n",
    "\n",
    "    def show_history(self):\n",
    "        print(\"\\n--- Action History ---\")\n",
    "        for room, temp, action in self.history:\n",
    "            print(f\"{room}: {temp}°C → {action}\")\n",
    "\n",
    "\n",
    "\n",
    "rooms = {\n",
    "    \"Living Room\": 18,\n",
    "    \"Bedroom\": 22,\n",
    "    \"Kitchen\": 20,\n",
    "    \"Bathroom\": 24\n",
    "}\n",
    "\n",
    "\n",
    "desired_temperature = 22\n",
    "agent = SimpleReflexAgent(desired_temperature)\n",
    "\n",
    "\n",
    "print(\"Room-wise Temperature Control:\\n\")\n",
    "for room, temperature in rooms.items():\n",
    "    action = agent.act(room, agent.perceive(temperature))\n",
    "    print(f\"{room}: Current Temperature = {temperature}°C → {action}\")\n",
    "\n",
    "\n",
    "agent.show_history()\n"
   ]
  },
  {
   "cell_type": "code",
   "execution_count": null,
   "id": "9803edff",
   "metadata": {},
   "outputs": [],
   "source": []
  }
 ],
 "metadata": {
  "kernelspec": {
   "display_name": "base",
   "language": "python",
   "name": "python3"
  },
  "language_info": {
   "codemirror_mode": {
    "name": "ipython",
    "version": 3
   },
   "file_extension": ".py",
   "mimetype": "text/x-python",
   "name": "python",
   "nbconvert_exporter": "python",
   "pygments_lexer": "ipython3",
   "version": "3.12.4"
  }
 },
 "nbformat": 4,
 "nbformat_minor": 5
}
