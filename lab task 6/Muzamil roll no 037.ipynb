{
 "cells": [
  {
   "cell_type": "markdown",
   "id": "a4b306c9",
   "metadata": {},
   "source": [
    " # bfs with queue and with node "
   ]
  },
  {
   "cell_type": "code",
   "execution_count": 5,
   "id": "c3fb5e8e",
   "metadata": {},
   "outputs": [
    {
     "name": "stdout",
     "output_type": "stream",
     "text": [
      "with queue and node bfs traversal:\n",
      "\n",
      "Queue:['A']\n",
      "visited node:A\n",
      "\n",
      "Queue:['B', 'C']\n",
      "visited node:B\n",
      "\n",
      "Queue:['C', 'D']\n",
      "visited node:C\n",
      "\n",
      "Queue:['D', 'E']\n",
      "visited node:D\n",
      "\n",
      "Queue:['E', 'F']\n",
      "visited node:E\n",
      "\n",
      "Queue:['F']\n",
      "visited node:F\n",
      "\n"
     ]
    }
   ],
   "source": [
    "import collections\n",
    "def bfs(graph,root):\n",
    "    visited = set()\n",
    "    queue = collections.deque([root])\n",
    "    visited.add(root)\n",
    "    print(\"with queue and node bfs traversal:\\n\")\n",
    "    while queue:\n",
    "       print(f\"Queue:{list(queue)}\") \n",
    "       node = queue.popleft()\n",
    "       print(f\"visited node:{node}\\n\")\n",
    "\n",
    "       for neighbor in graph [node]:\n",
    "           if neighbor not in visited:\n",
    "              visited.add(neighbor)\n",
    "              queue.append(neighbor)  \n",
    "if __name__ == '__main__':  \n",
    "\n",
    "    graph = {\n",
    "    'A' : ['B','C'],\n",
    "    'B' : ['D'],\n",
    "    'C' : ['E'],\n",
    "    'D' : ['F'],\n",
    "    'E' : [],\n",
    "    'F' : []\n",
    "   }\n",
    "   \n",
    "bfs(graph, 'A')"
   ]
  },
  {
   "cell_type": "markdown",
   "id": "1c9b6a46",
   "metadata": {},
   "source": [
    " # bfs without queue and without node"
   ]
  },
  {
   "cell_type": "code",
   "execution_count": 8,
   "id": "686d283f",
   "metadata": {},
   "outputs": [
    {
     "name": "stdout",
     "output_type": "stream",
     "text": [
      "without queue and without node bfs reversal\n",
      "A B C D E F "
     ]
    }
   ],
   "source": [
    "import collections\n",
    "def bfs(graph,root):\n",
    "    visited = set()\n",
    "    queue = collections.deque([root])\n",
    "    visited.add(root)\n",
    "\n",
    "    while queue:\n",
    "        node = queue.popleft()\n",
    "        print(node ,  end=\" \")\n",
    "\n",
    "        for neighbor in graph[node]:\n",
    "            if neighbor not in visited:\n",
    "                visited.add(neighbor)\n",
    "                queue.append(neighbor)\n",
    "if __name__ == '__main__':\n",
    "    graph = {\n",
    "        'A' : ['B','C'],\n",
    "        'B' : ['D'],\n",
    "        'C' : ['E'],\n",
    "        'D' : ['F'],\n",
    "        'E' : [],\n",
    "        'F' : []\n",
    "    }\n",
    "    print(\"without queue and without node bfs reversal\")\n",
    "    bfs(graph,'A')"
   ]
  }
 ],
 "metadata": {
  "kernelspec": {
   "display_name": "Python 3",
   "language": "python",
   "name": "python3"
  },
  "language_info": {
   "codemirror_mode": {
    "name": "ipython",
    "version": 3
   },
   "file_extension": ".py",
   "mimetype": "text/x-python",
   "name": "python",
   "nbconvert_exporter": "python",
   "pygments_lexer": "ipython3",
   "version": "3.11.9"
  }
 },
 "nbformat": 4,
 "nbformat_minor": 5
}
