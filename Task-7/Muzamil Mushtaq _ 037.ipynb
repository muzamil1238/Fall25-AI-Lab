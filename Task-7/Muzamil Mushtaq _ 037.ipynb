{
 "cells": [
  {
   "cell_type": "markdown",
   "id": "593c95c9",
   "metadata": {},
   "source": [
    "# Topic: A* Algorithm"
   ]
  },
  {
   "cell_type": "code",
   "execution_count": 2,
   "id": "3cd9611d",
   "metadata": {},
   "outputs": [
    {
     "name": "stdout",
     "output_type": "stream",
     "text": [
      "Shortest path found: ['A', 'B', 'D']\n"
     ]
    }
   ],
   "source": [
    "class Graph:\n",
    "    def __init__(self, connections):\n",
    "        self.connections = connections\n",
    "\n",
    "    def get_neighbors(self, node):\n",
    "        \"\"\"Return all neighbors of a given node\"\"\"\n",
    "        return self.connections.get(node, [])\n",
    "\n",
    "    def heuristic(self, node):\n",
    "        \"\"\"Simple heuristic function (modifiable)\"\"\"\n",
    "        heuristic_map = {\n",
    "            'A': 1,\n",
    "            'B': 1,\n",
    "            'C': 1,\n",
    "            'D': 1\n",
    "        }\n",
    "        return heuristic_map[node]\n",
    "\n",
    "    def a_star(self, start, goal):\n",
    "        \"\"\"Perform A* search from start to goal\"\"\"\n",
    "        open_nodes = set([start])\n",
    "        visited_nodes = set()\n",
    "        cost_from_start = {start: 0}\n",
    "        parent = {start: None}\n",
    "\n",
    "        while open_nodes:\n",
    "            current = min(\n",
    "                open_nodes,\n",
    "                key=lambda node: cost_from_start[node] + self.heuristic(node)\n",
    "            )\n",
    "            if current == goal:\n",
    "                path = []\n",
    "                while current is not None:\n",
    "                    path.append(current)\n",
    "                    current = parent[current]\n",
    "                path.reverse()\n",
    "                print(\"Shortest path found:\", path)\n",
    "                return path\n",
    "            for neighbor, distance in self.get_neighbors(current):\n",
    "                tentative_cost = cost_from_start[current] + distance\n",
    "                if neighbor not in cost_from_start or tentative_cost < cost_from_start[neighbor]:\n",
    "                    cost_from_start[neighbor] = tentative_cost\n",
    "                    parent[neighbor] = current\n",
    "\n",
    "                    if neighbor not in visited_nodes:\n",
    "                        open_nodes.add(neighbor)\n",
    "            open_nodes.remove(current)\n",
    "            visited_nodes.add(current)\n",
    "\n",
    "        print(\" No valid path found.\")\n",
    "        return None\n",
    "if __name__ == \"__main__\":\n",
    "    graph_map = {\n",
    "        'A': [('B', 1), ('C', 3), ('D', 7)],\n",
    "        'B': [('D', 5)],\n",
    "        'C': [('D', 12)]\n",
    "    }\n",
    "\n",
    "    my_graph = Graph(graph_map)\n",
    "    my_graph.a_star('A', 'D')\n"
   ]
  }
 ],
 "metadata": {
  "kernelspec": {
   "display_name": "Python 3",
   "language": "python",
   "name": "python3"
  },
  "language_info": {
   "codemirror_mode": {
    "name": "ipython",
    "version": 3
   },
   "file_extension": ".py",
   "mimetype": "text/x-python",
   "name": "python",
   "nbconvert_exporter": "python",
   "pygments_lexer": "ipython3",
   "version": "3.11.9"
  }
 },
 "nbformat": 4,
 "nbformat_minor": 5
}
