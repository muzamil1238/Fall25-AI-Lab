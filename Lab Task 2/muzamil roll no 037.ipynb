{
 "cells": [
  {
   "cell_type": "code",
   "execution_count": 10,
   "id": "738305b8",
   "metadata": {},
   "outputs": [
    {
     "name": "stdout",
     "output_type": "stream",
     "text": [
      "  computer asked 1\n",
      " user answer 1\n",
      "  computer asked 2\n",
      " user answer fizz\n",
      "  computer asked 3\n",
      " user answer buzz\n",
      "  computer asked 4\n",
      " user answer \n",
      "incorrect the correct answer was :7\n",
      "computer wins\n"
     ]
    }
   ],
   "source": [
    "def fizz_buzz_identify(number):\n",
    "    if number % 3 == 0 and number % 5 == 0:\n",
    "        return \"fizz buzz\"\n",
    "    elif number % 3 == 0:\n",
    "        return \"fizz\"\n",
    "    elif number % 5 == 0:\n",
    "        return \"buzz\"\n",
    "    else:\n",
    "        return str(number)\n",
    "    \n",
    "previous_number = 0\n",
    "\n",
    "\n",
    "for computer_number in range(1,101):\n",
    "    actual_value = previous_number + computer_number\n",
    "    correct_answer = fizz_buzz_identify(actual_value)\n",
    "\n",
    "\n",
    "    print(f\"  computer asked {computer_number}\")\n",
    "    user_input = input(f\" {previous_number} + {computer_number} = {actual_value}: \").strip()\n",
    "\n",
    "    print(f\" user answer {user_input}\")\n",
    "\n",
    "    if user_input.lower() != correct_answer.lower():\n",
    "        print(f\"incorrect the correct answer was :{correct_answer}\")\n",
    "        print(\"computer wins\")\n",
    "        break\n",
    "\n",
    "    previous_number = computer_number\n",
    "\n",
    "\n",
    "else:\n",
    "    print(\"\\n you completed all the rounds and you win the game\")\n"
   ]
  }
 ],
 "metadata": {
  "kernelspec": {
   "display_name": "Python 3",
   "language": "python",
   "name": "python3"
  },
  "language_info": {
   "codemirror_mode": {
    "name": "ipython",
    "version": 3
   },
   "file_extension": ".py",
   "mimetype": "text/x-python",
   "name": "python",
   "nbconvert_exporter": "python",
   "pygments_lexer": "ipython3",
   "version": "3.11.9"
  }
 },
 "nbformat": 4,
 "nbformat_minor": 5
}
