{
 "cells": [
  {
   "cell_type": "markdown",
   "id": "1d03ce07",
   "metadata": {},
   "source": [
    "# In the first code we will calculate the average budget"
   ]
  },
  {
   "cell_type": "code",
   "execution_count": 1,
   "id": "bddc10cf",
   "metadata": {},
   "outputs": [
    {
     "name": "stdout",
     "output_type": "stream",
     "text": [
      "average movie budget is : 190,500,000.00\n"
     ]
    }
   ],
   "source": [
    "movies = [ (\"Eternal Sunshine of the Spotless Mind\", 20000000),\n",
    " (\"Memento\", 9000000),\n",
    " (\"Requiem for a Dream\", 4500000),\n",
    " (\"Pirates of the Caribbean: On Stranger Tides\", 379000000),\n",
    " (\"Avengers: Age of Ultron\", 365000000),\n",
    " (\"Avengers: Endgame\", 356000000),\n",
    " (\"Incredibles 2\", 200000000)]\n",
    " \n",
    "total_budget = sum(budget for _,budget in movies)\n",
    "number_of_movies = len(movies)\n",
    "\n",
    "average_budget = total_budget / number_of_movies\n",
    "print(f\"average movie budget is : {average_budget:,.2f}\")\n"
   ]
  },
  {
   "cell_type": "markdown",
   "id": "47227f59",
   "metadata": {},
   "source": [
    "# In second code we will calculate the movies with higher although we copy the whole code from the above code . "
   ]
  },
  {
   "cell_type": "code",
   "execution_count": 2,
   "id": "03c3b7da",
   "metadata": {},
   "outputs": [
    {
     "name": "stdout",
     "output_type": "stream",
     "text": [
      "average movie budget is : 190,500,000.00\n",
      "movies with higher than the budget are below :\n",
      "\n",
      "_Pirates of the Caribbean: On Stranger Tides: 379,000,000 (188,500,000 above the average)\n",
      "_Avengers: Age of Ultron: 365,000,000 (174,500,000 above the average)\n",
      "_Avengers: Endgame: 356,000,000 (165,500,000 above the average)\n",
      "_Incredibles 2: 200,000,000 (9,500,000 above the average)\n"
     ]
    }
   ],
   "source": [
    "movies = [ (\"Eternal Sunshine of the Spotless Mind\", 20000000),\n",
    " (\"Memento\", 9000000),\n",
    " (\"Requiem for a Dream\", 4500000),\n",
    " (\"Pirates of the Caribbean: On Stranger Tides\", 379000000),\n",
    " (\"Avengers: Age of Ultron\", 365000000),\n",
    " (\"Avengers: Endgame\", 356000000),\n",
    " (\"Incredibles 2\", 200000000)]\n",
    " \n",
    "total_budget = sum(budget for _,budget in movies)\n",
    "number_of_movies = len(movies)\n",
    "\n",
    "average_budget = total_budget / number_of_movies\n",
    "print (f\"average movie budget is : {average_budget:,.2f}\")\n",
    "\n",
    "print (\"movies with higher than the budget are below :\\n\")\n",
    "\n",
    "for title,budget in movies :\n",
    "    if budget > average_budget:\n",
    "        difference = budget - average_budget\n",
    "        print(f\"_{title}: {budget:,.0f} ({difference :,.0f} above the average)\")\n",
    "\n",
    "\n"
   ]
  },
  {
   "cell_type": "markdown",
   "id": "09b80760",
   "metadata": {},
   "source": [
    "# In third code we will tell that how many movies are higher than the average budget although the whole code we copy from above code ."
   ]
  },
  {
   "cell_type": "code",
   "execution_count": 3,
   "id": "741320c5",
   "metadata": {},
   "outputs": [
    {
     "name": "stdout",
     "output_type": "stream",
     "text": [
      "average movie budget is : 190,500,000.00\n",
      "movies with higher than the budget are below :\n",
      "\n",
      "_Pirates of the Caribbean: On Stranger Tides: 379,000,000 (188,500,000 above the average)\n",
      "_Avengers: Age of Ultron: 365,000,000 (174,500,000 above the average)\n",
      "_Avengers: Endgame: 356,000,000 (165,500,000 above the average)\n",
      "_Incredibles 2: 200,000,000 (9,500,000 above the average)\n",
      "\n",
      " Number of movies higher than the budget : 4\n"
     ]
    }
   ],
   "source": [
    "movies = [ (\"Eternal Sunshine of the Spotless Mind\", 20000000),\n",
    " (\"Memento\", 9000000),\n",
    " (\"Requiem for a Dream\", 4500000),\n",
    " (\"Pirates of the Caribbean: On Stranger Tides\", 379000000),\n",
    " (\"Avengers: Age of Ultron\", 365000000),\n",
    " (\"Avengers: Endgame\", 356000000),\n",
    " (\"Incredibles 2\", 200000000)]\n",
    " \n",
    "total_budget = sum(budget for _,budget in movies)\n",
    "number_of_movies = len(movies)\n",
    "\n",
    "average_budget = total_budget / number_of_movies\n",
    "print (f\"average movie budget is : {average_budget:,.2f}\")\n",
    "\n",
    "print (\"movies with higher than the budget are below :\\n\")\n",
    "\n",
    "for title,budget in movies :\n",
    "    if budget > average_budget:\n",
    "        difference = budget - average_budget\n",
    "        print(f\"_{title}: {budget:,.0f} ({difference :,.0f} above the average)\") \n",
    "high_budget_movies = sum(1 for _, budget in movies if budget > average_budget)\n",
    "\n",
    "print(f\"\\n Number of movies higher than the budget : {high_budget_movies}\")"
   ]
  },
  {
   "cell_type": "markdown",
   "id": "e83c7686",
   "metadata": {},
   "source": [
    "# In fourth code we will add more movies to the code ."
   ]
  },
  {
   "cell_type": "code",
   "execution_count": 4,
   "id": "d43d8ed5",
   "metadata": {},
   "outputs": [
    {
     "name": "stdout",
     "output_type": "stream",
     "text": [
      "you can add 2 more movies according to your choice \n",
      "\n",
      "average movie budget is : 264,579,238.33\n",
      "movies with higher than the budget are below :\n",
      "\n",
      "_Pirates of the Caribbean: On Stranger Tides: 379,000,000 (114,420,762 above the average)\n",
      "_Avengers: Age of Ultron: 365,000,000 (100,420,762 above the average)\n",
      "_Avengers: Endgame: 356,000,000 (91,420,762 above the average)\n",
      "_avengers: 1,045,738,576 (781,159,338 above the average)\n",
      "\n",
      " Number of movies higher than the budget : 4\n"
     ]
    }
   ],
   "source": [
    "movies = [ (\"Eternal Sunshine of the Spotless Mind\", 20000000),\n",
    " (\"Memento\", 9000000),\n",
    " (\"Requiem for a Dream\", 4500000),\n",
    " (\"Pirates of the Caribbean: On Stranger Tides\", 379000000),\n",
    " (\"Avengers: Age of Ultron\", 365000000),\n",
    " (\"Avengers: Endgame\", 356000000),\n",
    " (\"Incredibles 2\", 200000000)]\n",
    "\n",
    "print (\"you can add 2 more movies according to your choice \\n\")\n",
    "\n",
    "for i in range (2):\n",
    "    title = input(f\"enter title for movie {i+1} : \").strip()\n",
    "\n",
    "    while True:\n",
    "        try:\n",
    "            budget = int(input(f\"enter budget for '{title}' :\") .strip())\n",
    "            break\n",
    "        except ValueError:\n",
    "            print(\"enter the valid number for budget\")\n",
    "    movies.append((title,budget))\n",
    "\n",
    "total_budget = sum(budget for _,budget in movies)\n",
    "number_of_movies = len(movies)\n",
    "\n",
    "average_budget = total_budget / number_of_movies\n",
    "print (f\"average movie budget is : {average_budget:,.2f}\")\n",
    "\n",
    "print (\"movies with higher than the budget are below :\\n\")\n",
    "\n",
    "for title,budget in movies :\n",
    "    if budget > average_budget:\n",
    "        difference = budget - average_budget\n",
    "        print(f\"_{title}: {budget:,.0f} ({difference :,.0f} above the average)\") \n",
    "high_budget_movies = sum(1 for _, budget in movies if budget > average_budget)\n",
    "\n",
    "print(f\"\\n Number of movies higher than the budget : {high_budget_movies}\")\n",
    "\n"
   ]
  },
  {
   "cell_type": "markdown",
   "id": "754fa508",
   "metadata": {},
   "source": [
    "# In fifth code the user will tell how many movies he wants to add although we copy the code that is already written above ."
   ]
  },
  {
   "cell_type": "code",
   "execution_count": 7,
   "id": "1b9641a4",
   "metadata": {},
   "outputs": [
    {
     "name": "stdout",
     "output_type": "stream",
     "text": [
      "\n",
      " updated movie list:\n",
      ">Eternal Sunshine of the Spotless Mind: 20,000,000\n",
      ">Memento: 9,000,000\n",
      ">Requiem for a Dream: 4,500,000\n",
      ">Pirates of the Caribbean: On Stranger Tides: 379,000,000\n",
      ">Avengers: Age of Ultron: 365,000,000\n",
      ">Avengers: Endgame: 356,000,000\n",
      ">Incredibles 2: 200,000,000\n",
      ">kgf: 3,478,300\n",
      ">avengers: 2,345,672\n",
      ">cars: 4,563,785\n"
     ]
    }
   ],
   "source": [
    "movies = [ (\"Eternal Sunshine of the Spotless Mind\", 20000000),\n",
    " (\"Memento\", 9000000),\n",
    " (\"Requiem for a Dream\", 4500000),\n",
    " (\"Pirates of the Caribbean: On Stranger Tides\", 379000000),\n",
    " (\"Avengers: Age of Ultron\", 365000000),\n",
    " (\"Avengers: Endgame\", 356000000),\n",
    " (\"Incredibles 2\", 200000000)]\n",
    "\n",
    "\n",
    "try:\n",
    "    count = int(input(\"how many movie would you like to add ?\"))\n",
    "    for i in range (count):\n",
    "        title = input(\"enter movie title: \").strip()\n",
    "        while True:\n",
    "            try:\n",
    "                budget = int(input(\"enter the movie budget:\").strip())\n",
    "                break\n",
    "            except ValueError:\n",
    "                print(\"please enter a valid number for budget.\")\n",
    "        movies.append((title, budget))\n",
    "except ValueError:\n",
    "    print(\"invalid input please enter a number\")        \n",
    "print(\"\\n updated movie list:\")\n",
    "for title, budget in movies:\n",
    "    print(f\">{title}: {budget:,}\")\n",
    "\n",
    "        "
   ]
  }
 ],
 "metadata": {
  "kernelspec": {
   "display_name": "Python 3",
   "language": "python",
   "name": "python3"
  },
  "language_info": {
   "codemirror_mode": {
    "name": "ipython",
    "version": 3
   },
   "file_extension": ".py",
   "mimetype": "text/x-python",
   "name": "python",
   "nbconvert_exporter": "python",
   "pygments_lexer": "ipython3",
   "version": "3.11.9"
  }
 },
 "nbformat": 4,
 "nbformat_minor": 5
}
