{
 "cells": [
  {
   "cell_type": "markdown",
   "id": "ea6c7f25",
   "metadata": {},
   "source": [
    "# LUHN algorithm"
   ]
  },
  {
   "cell_type": "code",
   "execution_count": 9,
   "id": "c9433e29",
   "metadata": {},
   "outputs": [
    {
     "name": "stdout",
     "output_type": "stream",
     "text": [
      "card is valid\n"
     ]
    }
   ],
   "source": [
    "def check_card_validation(card_number):\n",
    "    digits = [int(d) for d in card_number ]\n",
    "\n",
    "    check_digits = digits.pop()\n",
    "\n",
    "    digits.reverse()\n",
    "\n",
    "    for i in range(0,len(digits), 2):\n",
    "        digits[i] *= 2\n",
    "        if digits[i] > 9:\n",
    "            digits[i] -=9\n",
    "    total = sum(digits) + check_digits\n",
    "\n",
    "\n",
    "    return total % 10 ==0\n",
    "\n",
    "user_input = input(\"enter the card number \")\n",
    "\n",
    "\n",
    "if user_input.isdigit():\n",
    "    if check_card_validation(user_input):\n",
    "        print(\"card is valid\")\n",
    "    else:\n",
    "        print(\"card is not valid\") \n",
    "else:\n",
    "    print(\"please enter a valid card number\")           \n",
    "\n"
   ]
  },
  {
   "cell_type": "markdown",
   "id": "5d561ed7",
   "metadata": {},
   "source": [
    "# write a python program to remove puncuatation from the text?"
   ]
  },
  {
   "cell_type": "code",
   "execution_count": 10,
   "id": "925b42af",
   "metadata": {},
   "outputs": [
    {
     "name": "stdout",
     "output_type": "stream",
     "text": [
      "simple text: i am muzamil\n"
     ]
    }
   ],
   "source": [
    "text = \"i ,>am muzamil?\"\n",
    "puncuatation = \"'\\\"!@#$%^&*()_-+={}[]|\\\\:;<>?,./~`\"\n",
    "\n",
    "for p in puncuatation:\n",
    "    text = text.replace(p,\"\")\n",
    "\n",
    "print(\"simple text:\",text)    "
   ]
  },
  {
   "cell_type": "markdown",
   "id": "a029e918",
   "metadata": {},
   "source": [
    "# write a python program to sort the sentance in alphabetical order ?"
   ]
  },
  {
   "cell_type": "code",
   "execution_count": 11,
   "id": "613f4013",
   "metadata": {},
   "outputs": [
    {
     "name": "stdout",
     "output_type": "stream",
     "text": [
      "sorted text is: aaeiilmmmmnsuyz\n"
     ]
    }
   ],
   "source": [
    "text = \" my name is muzamil \"\n",
    "alphabet = \"abcdefghijklmnopqrstuvwxyz\"\n",
    "result = \"\"\n",
    "\n",
    "for letters in alphabet:\n",
    "    for character in text:\n",
    "        if character == letters:\n",
    "            result += character\n",
    "\n",
    "print(\"sorted text is:\",result)"
   ]
  }
 ],
 "metadata": {
  "kernelspec": {
   "display_name": "Python 3",
   "language": "python",
   "name": "python3"
  },
  "language_info": {
   "codemirror_mode": {
    "name": "ipython",
    "version": 3
   },
   "file_extension": ".py",
   "mimetype": "text/x-python",
   "name": "python",
   "nbconvert_exporter": "python",
   "pygments_lexer": "ipython3",
   "version": "3.11.9"
  }
 },
 "nbformat": 4,
 "nbformat_minor": 5
}
