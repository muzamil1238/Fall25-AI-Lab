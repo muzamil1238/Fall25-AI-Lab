{
 "cells": [
  {
   "cell_type": "markdown",
   "id": "97a4bcb6",
   "metadata": {},
   "source": [
    "   # Topic: Minmax Algorithm"
   ]
  },
  {
   "cell_type": "code",
   "execution_count": 4,
   "id": "4f4a1d3d",
   "metadata": {},
   "outputs": [
    {
     "name": "stdout",
     "output_type": "stream",
     "text": [
      "Game Tree Visualization:\n",
      "\n",
      "Node (Depth 0, Index 0)  Expanding...\n",
      "   Node (Depth 1, Index 0)  Expanding...\n",
      "      Node (Depth 2, Index 0)  Expanding...\n",
      "         Leaf Node = Value: 3\n",
      "         Leaf Node = Value: 5\n",
      "      Node (Depth 2, Index 1)  Expanding...\n",
      "         Leaf Node = Value: 2\n",
      "         Leaf Node = Value: 9\n",
      "   Node (Depth 1, Index 1)  Expanding...\n",
      "      Node (Depth 2, Index 2)  Expanding...\n",
      "         Leaf Node = Value: 3\n",
      "         Leaf Node = Value: 5\n",
      "      Node (Depth 2, Index 3)  Expanding...\n",
      "         Leaf Node = Value: 2\n",
      "         Leaf Node = Value: 9\n",
      "\n",
      " Optimal value for maximizing player: 5\n"
     ]
    }
   ],
   "source": [
    "import math\n",
    "\n",
    "def show_game_tree(depth, index, scores, max_depth, prefix=\"\"):\n",
    "    \"\"\"Helper function to visualize the game tree structure.\"\"\"\n",
    "    if depth == max_depth:\n",
    "        print(f\"{prefix}Leaf Node = Value: {scores[index]}\")\n",
    "        return\n",
    "    print(f\"{prefix}Node (Depth {depth}, Index {index})  Expanding...\")\n",
    "    show_game_tree(depth + 1, index * 2, scores, max_depth, prefix + \"   \")\n",
    "    show_game_tree(depth + 1, index * 2 + 1, scores, max_depth, prefix + \"   \")\n",
    "\n",
    "\n",
    "def decision_maker(level, position, is_max_turn, values, final_depth):\n",
    "    \"\"\"Unique version of the minimax algorithm.\"\"\"\n",
    "    if level == final_depth:\n",
    "        return values[position]\n",
    "    if is_max_turn:\n",
    "        left_score = decision_maker(level + 1, position * 2, False, values, final_depth)\n",
    "        right_score = decision_maker(level + 1, position * 2 + 1, False, values, final_depth)\n",
    "        best_move = max(left_score, right_score)\n",
    "    else:\n",
    "        left_score = decision_maker(level + 1, position * 2, True, values, final_depth)\n",
    "        right_score = decision_maker(level + 1, position * 2 + 1, True, values, final_depth)\n",
    "        best_move = min(left_score, right_score)\n",
    "    \n",
    "    return best_move\n",
    "game_scores = [3, 5, 2, 9, 3, 5, 2, 9]\n",
    "total_levels = int(math.log2(len(game_scores)))\n",
    "print(\"Game Tree Visualization:\\n\")\n",
    "show_game_tree(0, 0, game_scores, total_levels)\n",
    "final_value = decision_maker(0, 0, True, game_scores, total_levels)\n",
    "\n",
    "print(\"\\n Optimal value for maximizing player:\", final_value)\n"
   ]
  }
 ],
 "metadata": {
  "kernelspec": {
   "display_name": "Python 3",
   "language": "python",
   "name": "python3"
  },
  "language_info": {
   "codemirror_mode": {
    "name": "ipython",
    "version": 3
   },
   "file_extension": ".py",
   "mimetype": "text/x-python",
   "name": "python",
   "nbconvert_exporter": "python",
   "pygments_lexer": "ipython3",
   "version": "3.13.9"
  }
 },
 "nbformat": 4,
 "nbformat_minor": 5
}
